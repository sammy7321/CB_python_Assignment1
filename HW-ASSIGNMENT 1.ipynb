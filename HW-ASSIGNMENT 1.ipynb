{
 "cells": [
  {
   "cell_type": "code",
   "execution_count": null,
   "metadata": {},
   "outputs": [],
   "source": [
    "#q1 - Write a program to swap two variables\n",
    "x= int(input())\n",
    "y= int(input())\n",
    "print('numbers given:')\n",
    "print(x,y)\n",
    "temp=x\n",
    "x=y\n",
    "y=temp\n",
    "print('swapped numbers:')\n",
    "print(x,y)"
   ]
  },
  {
   "cell_type": "code",
   "execution_count": null,
   "metadata": {},
   "outputs": [],
   "source": []
  },
  {
   "cell_type": "code",
   "execution_count": null,
   "metadata": {},
   "outputs": [],
   "source": [
    "#q2-Write a program to check if a number is odd or even\n",
    "n = int(input())\n",
    "if (n%2==0):\n",
    "    print(\"even\")\n",
    "else:\n",
    "    print(\"odd\")"
   ]
  },
  {
   "cell_type": "code",
   "execution_count": null,
   "metadata": {},
   "outputs": [],
   "source": [
    "#q3-Write a program to find the square root of a number.\n",
    "n= int(input())\n",
    "sqnum= (n**0.5)\n",
    "print(sqnum)"
   ]
  },
  {
   "cell_type": "code",
   "execution_count": null,
   "metadata": {},
   "outputs": [],
   "source": [
    "#q4-Write a program to print all the natural numbers from 1 to n (user input).#Then print the same in reverse order.\n",
    "n = int(input())\n",
    "print('numbers in ascending order')\n",
    "for i in range(1,n+1):\n",
    "        print (i)\n",
    "print('numbers in descending order')        \n",
    "while(n>=1):\n",
    "    print(n)\n",
    "    n= n-1\n",
    "    \n",
    "\n",
    "    \n",
    "\n"
   ]
  },
  {
   "cell_type": "code",
   "execution_count": null,
   "metadata": {},
   "outputs": [],
   "source": [
    "#q5-Write a program which prints volume of a sphere, given the radius.\n",
    "r = float(input())\n",
    "print((4/3)*3.14*(r**3))"
   ]
  },
  {
   "cell_type": "code",
   "execution_count": 2,
   "metadata": {
    "scrolled": true
   },
   "outputs": [
    {
     "name": "stdout",
     "output_type": "stream",
     "text": [
      "1 \n",
      "6\n",
      "6\n",
      "Distinct Real roots\n",
      "-1.2679491924311228\n",
      "-4.732050807568877\n"
     ]
    }
   ],
   "source": [
    "#q7-Write a program to compute roots of a quadratic equation when coefficients a, b and c are known (entered by the user).\n",
    "a=int(input())\n",
    "b=int(input())\n",
    "c=int(input())\n",
    "d = (b**2-(4*a*c))\n",
    "r1 = ((-b+((d)**0.5))/(2*a))\n",
    "r2 = ((-b-((d)**0.5))/(2*a))\n",
    "if(d>0):\n",
    "    print(\"Distinct Real roots\")\n",
    "    print(r1)\n",
    "    print(r2)\n",
    "elif(d==0):\n",
    "    print(\"Same Real Roots\")\n",
    "    print(r1)\n",
    "    print(r2)\n",
    "else:\n",
    "    print(\"complex roots\")\n",
    "\n"
   ]
  },
  {
   "cell_type": "code",
   "execution_count": 3,
   "metadata": {},
   "outputs": [
    {
     "name": "stdout",
     "output_type": "stream",
     "text": [
      "Enter an integer: 66474\n",
      "5\n"
     ]
    }
   ],
   "source": [
    "# q8-Count the number of digits in a number\n",
    "num = input('Enter an integer: ')\n",
    "print(len(num))"
   ]
  },
  {
   "cell_type": "code",
   "execution_count": 4,
   "metadata": {
    "scrolled": true
   },
   "outputs": [
    {
     "name": "stdout",
     "output_type": "stream",
     "text": [
      "even numbers:  [2, 4, 6, 8, 10, 12, 14, 16, 18, 20, 22, 24, 26, 28, 30, 32, 34, 36, 38, 40, 42, 44, 46, 48, 50, 52, 54, 56, 58, 60, 62, 64, 66, 68, 70, 72, 74, 76, 78, 80, 82, 84, 86, 88, 90, 92, 94, 96, 98, 100]\n",
      "odd numbers:  [1, 3, 5, 7, 9, 11, 13, 15, 17, 19, 21, 23, 25, 27, 29, 31, 33, 35, 37, 39, 41, 43, 45, 47, 49, 51, 53, 55, 57, 59, 61, 63, 65, 67, 69, 71, 73, 75, 77, 79, 81, 83, 85, 87, 89, 91, 93, 95, 97, 99]\n"
     ]
    }
   ],
   "source": [
    "#q6-Print all odd numbers and even numbers between 1 to 100.\n",
    "even = []\n",
    "odd = []\n",
    "for i in range(1,101,1):\n",
    "    if(i%2==0):\n",
    "        even.append(i)\n",
    "    else:\n",
    "        odd.append(i)\n",
    "\n",
    "print(\"even numbers: \", even)\n",
    "print(\"odd numbers: \",odd)"
   ]
  },
  {
   "cell_type": "code",
   "execution_count": null,
   "metadata": {},
   "outputs": [],
   "source": []
  },
  {
   "cell_type": "code",
   "execution_count": null,
   "metadata": {},
   "outputs": [],
   "source": []
  },
  {
   "cell_type": "code",
   "execution_count": null,
   "metadata": {},
   "outputs": [],
   "source": []
  },
  {
   "cell_type": "code",
   "execution_count": 5,
   "metadata": {},
   "outputs": [
    {
     "name": "stdout",
     "output_type": "stream",
     "text": [
      "Enter a number: 5\n"
     ]
    },
    {
     "data": {
      "text/plain": [
       "True"
      ]
     },
     "execution_count": 5,
     "metadata": {},
     "output_type": "execute_result"
    }
   ],
   "source": [
    "#q9-Write a program to check if a number is prime or not.\n",
    "n = int(input(\"Enter a number: \"))\n",
    "def isprime(n):\n",
    "    for i in range(2,n):\n",
    "        if(n%i==0):\n",
    "               return False\n",
    "        else:\n",
    "            return True  \n",
    "isprime(n)"
   ]
  },
  {
   "cell_type": "code",
   "execution_count": 6,
   "metadata": {},
   "outputs": [
    {
     "name": "stdout",
     "output_type": "stream",
     "text": [
      "8\n",
      "14\n"
     ]
    }
   ],
   "source": [
    "#q10-Write a program that asks the user for a number n and prints the sum of the numbers 1 to n such that only multiples of three or five are considered in the sum\n",
    "n = int(input())\n",
    "a=0\n",
    "for i in range (1,n+1,1):\n",
    "    if(i%3==0 or i%5==0):\n",
    "        a=a+i\n",
    "print(a)\n",
    "    \n"
   ]
  },
  {
   "cell_type": "code",
   "execution_count": 8,
   "metadata": {},
   "outputs": [
    {
     "name": "stdout",
     "output_type": "stream",
     "text": [
      "Enter a number: 6\n",
      "Please choose computation - Sum or Product:  Sum\n",
      "15\n",
      "1\n"
     ]
    }
   ],
   "source": [
    "#q-11 Write a program that asks the user for a number n and gives them the possibility to choose between computing the sum and computing the product of 1,…,n\n",
    "n = int(input(\"Enter a number: \"))\n",
    "a = 0\n",
    "b = 1\n",
    "choice = input(\"Please choose computation - Sum or Product:  \")\n",
    "for i in range (1,n,1):\n",
    "        if (choice == \"Sum\"):\n",
    "             a+=i                    \n",
    "        elif(choice==\"Product\"):\n",
    "                            b*=i\n",
    "        else:\n",
    "            print(\"invalid Input\")\n",
    "\n",
    "print(a)\n",
    "print(b)\n",
    "        \n",
    "        \n"
   ]
  },
  {
   "cell_type": "code",
   "execution_count": 9,
   "metadata": {},
   "outputs": [
    {
     "name": "stdout",
     "output_type": "stream",
     "text": [
      "233168\n"
     ]
    }
   ],
   "source": [
    "#q12-Find the sum of all the multiples of 3 or 5 below 1000.\n",
    "sum = 0\n",
    "for i in range(1000):\n",
    "    if (i%3==0 or i%5==0):\n",
    "        sum+=i\n",
    "print(sum)"
   ]
  },
  {
   "cell_type": "code",
   "execution_count": 10,
   "metadata": {},
   "outputs": [
    {
     "name": "stdout",
     "output_type": "stream",
     "text": [
      "[2002, 2009, 2016, 2023, 2037, 2044, 2051, 2058, 2072, 2079, 2086, 2093, 2107, 2114, 2121, 2128, 2142, 2149, 2156, 2163, 2177, 2184, 2191, 2198, 2212, 2219, 2226, 2233, 2247, 2254, 2261, 2268, 2282, 2289, 2296, 2303, 2317, 2324, 2331, 2338, 2352, 2359, 2366, 2373, 2387, 2394, 2401, 2408, 2422, 2429, 2436, 2443, 2457, 2464, 2471, 2478, 2492, 2499, 2506, 2513, 2527, 2534, 2541, 2548, 2562, 2569, 2576, 2583, 2597, 2604, 2611, 2618, 2632, 2639, 2646, 2653, 2667, 2674, 2681, 2688, 2702, 2709, 2716, 2723, 2737, 2744, 2751, 2758, 2772, 2779, 2786, 2793, 2807, 2814, 2821, 2828, 2842, 2849, 2856, 2863, 2877, 2884, 2891, 2898, 2912, 2919, 2926, 2933, 2947, 2954, 2961, 2968, 2982, 2989, 2996, 3003, 3017, 3024, 3031, 3038, 3052, 3059, 3066, 3073, 3087, 3094, 3101, 3108, 3122, 3129, 3136, 3143, 3157, 3164, 3171, 3178, 3192, 3199] "
     ]
    }
   ],
   "source": [
    "#q13-Write a program which will find all such numbers which are divisible by 7 but are\n",
    "#not a multiple of 5, between 2000 and 3200 (both included).\n",
    "arr = []\n",
    "for i in range(2000,3201,1):\n",
    "    if (i%7==0 and i%5!=0):\n",
    "            arr.append(i)\n",
    "print(arr,end = \" \")\n",
    "    "
   ]
  },
  {
   "cell_type": "code",
   "execution_count": 11,
   "metadata": {},
   "outputs": [
    {
     "name": "stdout",
     "output_type": "stream",
     "text": [
      "Sum of Squares:  338350\n",
      "Square of the Sum:  25502500\n",
      "difference:  25164150\n"
     ]
    }
   ],
   "source": [
    "#q14- Find the difference between the sum of the squares of the first one hundred\n",
    "# natural numbers and the square of the sum.\n",
    "sumofsquare=0\n",
    "s = 0\n",
    "sqofsum = 0\n",
    "for i in range(1,101):\n",
    "    s+=i\n",
    "    sumofsquare+=(i**2)\n",
    "sqofsum = s**2\n",
    "print(\"Sum of Squares: \",sumofsquare)\n",
    "print(\"Square of the Sum: \",sqofsum)\n",
    "difference = (sqofsum)-(sumofsquare)\n",
    "print(\"difference: \",difference)\n",
    "\n"
   ]
  },
  {
   "cell_type": "code",
   "execution_count": 1,
   "metadata": {},
   "outputs": [
    {
     "name": "stdout",
     "output_type": "stream",
     "text": [
      "Enter a number: 3\n",
      "Enter a number: 3\n",
      "Enter a number: 3\n",
      "Enter a number: 3\n",
      "Enter a number: 3\n",
      "Enter a number: 3\n",
      "Enter a number: 3\n",
      "Enter a number: 3\n",
      "Enter a number: stop\n",
      "Total 24\n",
      "Count 9\n",
      "Average 2.6666666666666665\n"
     ]
    }
   ],
   "source": [
    "# q15-Write a program which repeatedly reads numbers until the user enters \"stop\".\n",
    "# Once \"stop\" is entered, print out the total, count, and average of the numbers. If\n",
    "# the user enters anything other than a number then also stop.\n",
    "total = 0\n",
    "count = 0\n",
    "number = 0\n",
    "while (number!=\"stop\"):\n",
    "        try: \n",
    "    \n",
    "            number = input(\"Enter a number: \")\n",
    "            count+=1\n",
    "            total+=int(number)\n",
    "           \n",
    "        except:\n",
    "                print(\"Total\",total)\n",
    "                print(\"Count\",count)\n",
    "                print(\"Average\",(total/count))\n",
    "                break"
   ]
  },
  {
   "cell_type": "code",
   "execution_count": 16,
   "metadata": {},
   "outputs": [
    {
     "name": "stdout",
     "output_type": "stream",
     "text": [
      "Enter a number: 17\n",
      "2\n",
      "3\n",
      "4\n",
      "5\n",
      "7\n",
      "11\n",
      "13\n"
     ]
    }
   ],
   "source": [
    "# q16-Write a program that prints all prime numbers till n.\n",
    "n = int(input(\"Enter a number: \"))\n",
    "for i in range(2,n):\n",
    "    count = 0 \n",
    "    for j in range(2,i//2):\n",
    "        if(i%j==0):\n",
    "            count=1\n",
    "            break\n",
    "    \n",
    "    if(count==0):\n",
    "        print(i)"
   ]
  },
  {
   "cell_type": "code",
   "execution_count": 12,
   "metadata": {},
   "outputs": [
    {
     "name": "stdout",
     "output_type": "stream",
     "text": [
      "7\n",
      "5040\n"
     ]
    }
   ],
   "source": [
    "#q17-Write a program which can compute the factorial of a given number.\n",
    "n = int(input())\n",
    "factorial = 1\n",
    "for i in range(1,n+1):\n",
    "    factorial*=i\n",
    "print(factorial)\n",
    "    "
   ]
  },
  {
   "cell_type": "code",
   "execution_count": 13,
   "metadata": {},
   "outputs": [
    {
     "name": "stdout",
     "output_type": "stream",
     "text": [
      "Enter a integer: 7\n",
      "0\n",
      "1\n",
      "1\n",
      "2\n",
      "3\n",
      "5\n",
      "8\n"
     ]
    }
   ],
   "source": [
    "#q18-Write a program for printing fibonacci series till n.\n",
    "n = int(input(\"Enter a integer: \"))\n",
    "def fibonacci(n):\n",
    "    if n==0 or n==1:\n",
    "        return n \n",
    "    else :\n",
    "        return fibonacci(n-1)+fibonacci(n-2)\n",
    "    \n",
    "for i in range(n):\n",
    "    print(fibonacci(i))\n",
    "    \n",
    "    "
   ]
  },
  {
   "cell_type": "code",
   "execution_count": 4,
   "metadata": {},
   "outputs": [
    {
     "name": "stdout",
     "output_type": "stream",
     "text": [
      "9\n",
      "21\n",
      "63\n"
     ]
    }
   ],
   "source": [
    "#q19-Write a program to find the LCM of two numbers.#helptaken\n",
    "a = int(input())\n",
    "b = int(input())\n",
    "if(a>b):\n",
    "    min1=a\n",
    "else:\n",
    "    min1=b\n",
    "while(1):\n",
    "    if(min1%a==0 and min1%b==0):\n",
    "        print(min1)\n",
    "        break\n",
    "    min1= min1+1"
   ]
  },
  {
   "cell_type": "code",
   "execution_count": 3,
   "metadata": {},
   "outputs": [
    {
     "name": "stdout",
     "output_type": "stream",
     "text": [
      "Enter a number: 36\n",
      "[1, 2, 3, 4, 6, 9, 12, 18, 36]\n"
     ]
    }
   ],
   "source": [
    "#q20-Write a program to find the factor of a number.\n",
    "a = int(input(\"Enter a number: \"))\n",
    "arr = []\n",
    "for i in  range(1,a+1):\n",
    "    if(a%i==0 ):\n",
    "        arr.append(i)\n",
    "print(arr)\n"
   ]
  },
  {
   "cell_type": "code",
   "execution_count": null,
   "metadata": {},
   "outputs": [],
   "source": [
    "#q21- Pattern1\n",
    "n=5\n",
    "for i in range(n):\n",
    "    for j in range(0,i+1):\n",
    "        print(\"*\",end =\" \")\n",
    "    print()"
   ]
  },
  {
   "cell_type": "code",
   "execution_count": null,
   "metadata": {},
   "outputs": [],
   "source": [
    "#q21- Pattern2\n",
    "n=7\n",
    "for i in range(n,0,-1):\n",
    "    print((i) * \"*\"+ (n-i) * \" \")\n",
    "print()"
   ]
  },
  {
   "cell_type": "code",
   "execution_count": null,
   "metadata": {},
   "outputs": [],
   "source": [
    "#q21- Pattern3\n",
    "n=5\n",
    "for i in range(n+1):\n",
    "    for j in range(1,i+1):\n",
    "        print(i,end =\" \")\n",
    "    print()"
   ]
  },
  {
   "cell_type": "code",
   "execution_count": null,
   "metadata": {},
   "outputs": [],
   "source": [
    "#q21- Pattern4\n",
    "n=4\n",
    "for i in range(n):\n",
    "    print(\" \" * (n-i-1) + \"* \"*(i+1) )"
   ]
  },
  {
   "cell_type": "code",
   "execution_count": null,
   "metadata": {},
   "outputs": [],
   "source": [
    "#q21- Pattern5\n",
    "n=4\n",
    "k=1\n",
    "for i in range(n+1):\n",
    "    for j in range(1,i+1):\n",
    "        print(k,end =\" \")\n",
    "        k+=1\n",
    "    print()"
   ]
  },
  {
   "cell_type": "code",
   "execution_count": null,
   "metadata": {},
   "outputs": [],
   "source": [
    "#q21- Pattern6\n",
    "n=4\n",
    "k=65\n",
    "for i in range(n+1):\n",
    "    for j in range(1,i+1):\n",
    "        print(chr(k),end =\" \")\n",
    "        k+=1\n",
    "    print()"
   ]
  },
  {
   "cell_type": "code",
   "execution_count": null,
   "metadata": {},
   "outputs": [],
   "source": [
    "# #q22-Write a program that computes the value of a+aa+aaa+aaaa with a given digit as\n",
    "# the value of a\n",
    "n=4\n",
    "a = input(\"Enter a number: \")\n",
    "sta = str(a)\n",
    "sumst = \"\"\n",
    "sumnum = 0\n",
    "#for i in range(n):\n",
    "for j in range(1,n+1):\n",
    "    sumst = sumst + sta\n",
    "    sumnum+=int(sumst)\n",
    "print(sumnum)\n",
    "        \n",
    "\n"
   ]
  },
  {
   "cell_type": "code",
   "execution_count": null,
   "metadata": {},
   "outputs": [],
   "source": []
  },
  {
   "cell_type": "code",
   "execution_count": null,
   "metadata": {},
   "outputs": [],
   "source": []
  }
 ],
 "metadata": {
  "kernelspec": {
   "display_name": "Python 3",
   "language": "python",
   "name": "python3"
  },
  "language_info": {
   "codemirror_mode": {
    "name": "ipython",
    "version": 3
   },
   "file_extension": ".py",
   "mimetype": "text/x-python",
   "name": "python",
   "nbconvert_exporter": "python",
   "pygments_lexer": "ipython3",
   "version": "3.7.3"
  }
 },
 "nbformat": 4,
 "nbformat_minor": 2
}
